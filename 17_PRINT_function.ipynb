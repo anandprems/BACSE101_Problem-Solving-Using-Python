{
 "cells": [
  {
   "cell_type": "markdown",
   "id": "c28463ef-24e2-4808-8607-d01862551cb9",
   "metadata": {},
   "source": [
    "# PRINT function"
   ]
  },
  {
   "cell_type": "markdown",
   "id": "92946edd-d1d0-4ffd-aeb3-e025a303cac4",
   "metadata": {},
   "source": [
    "## file parameter"
   ]
  },
  {
   "cell_type": "code",
   "execution_count": 6,
   "id": "5e9db725-ea90-469a-995c-d8f051e5e88f",
   "metadata": {
    "collapsed": true,
    "jupyter": {
     "outputs_hidden": true
    }
   },
   "outputs": [
    {
     "name": "stdout",
     "output_type": "stream",
     "text": [
      "Hello, World!\n"
     ]
    }
   ],
   "source": [
    "import sys\n",
    "\n",
    "print(\"Hello, World!\", file=sys.stdout) ~ print('hello world')"
   ]
  },
  {
   "cell_type": "code",
   "execution_count": 2,
   "id": "5ebd4765-3fb8-4f54-9fbf-5b56481174d7",
   "metadata": {},
   "outputs": [
    {
     "name": "stdout",
     "output_type": "stream",
     "text": [
      "This is normal output\n"
     ]
    },
    {
     "name": "stderr",
     "output_type": "stream",
     "text": [
      "This is an error!\n"
     ]
    }
   ],
   "source": [
    "import sys\n",
    "\n",
    "print(\"This is normal output\", file=sys.stdout)\n",
    "print(\"This is an error!\", file=sys.stderr)\n",
    "\n",
    "# Define and open the file before using it\n",
    "with open(\"log.txt\", \"w\") as log_file:\n",
    "    print(\"Log jklafjalkdjf\", file=log_file)"
   ]
  },
  {
   "cell_type": "markdown",
   "id": "3fe2bc75-6f91-472a-b619-a63fe2cf2c23",
   "metadata": {},
   "source": [
    "## flush parameter"
   ]
  },
  {
   "cell_type": "code",
   "execution_count": 4,
   "id": "bfb721de-a3e4-48d0-8c1e-6a075da1e44d",
   "metadata": {},
   "outputs": [
    {
     "name": "stdout",
     "output_type": "stream",
     "text": [
      "Loading 0... Loading 1... Loading 2... Loading 3... Loading 4... "
     ]
    }
   ],
   "source": [
    "import time\n",
    "\n",
    "for i in range(5):\n",
    "    print(f\"Loading {i}...\", end=' ')  \n",
    "    #time.sleep(1)"
   ]
  },
  {
   "cell_type": "code",
   "execution_count": 3,
   "id": "6088ce6f-1cf4-4746-8014-dfd2545be0ef",
   "metadata": {},
   "outputs": [
    {
     "name": "stdout",
     "output_type": "stream",
     "text": [
      "Loading 0... Loading 1... Loading 2... Loading 3... Loading 4... "
     ]
    }
   ],
   "source": [
    "import time\n",
    "\n",
    "for i in range(5):\n",
    "    print(f\"Loading {i}...\", end=' ', flush=True)\n",
    "    time.sleep(1)"
   ]
  },
  {
   "cell_type": "code",
   "execution_count": null,
   "id": "17cbbba9-48c0-4e28-bd5f-f032f754ee15",
   "metadata": {
    "collapsed": true,
    "jupyter": {
     "outputs_hidden": true
    }
   },
   "outputs": [],
   "source": []
  }
 ],
 "metadata": {
  "kernelspec": {
   "display_name": "Python 3 (ipykernel)",
   "language": "python",
   "name": "python3"
  },
  "language_info": {
   "codemirror_mode": {
    "name": "ipython",
    "version": 3
   },
   "file_extension": ".py",
   "mimetype": "text/x-python",
   "name": "python",
   "nbconvert_exporter": "python",
   "pygments_lexer": "ipython3",
   "version": "3.13.5"
  }
 },
 "nbformat": 4,
 "nbformat_minor": 5
}
